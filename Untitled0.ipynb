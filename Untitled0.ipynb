{
  "nbformat": 4,
  "nbformat_minor": 0,
  "metadata": {
    "colab": {
      "provenance": []
    },
    "kernelspec": {
      "name": "python3",
      "display_name": "Python 3"
    },
    "language_info": {
      "name": "python"
    }
  },
  "cells": [
    {
      "cell_type": "code",
      "execution_count": 5,
      "metadata": {
        "colab": {
          "base_uri": "https://localhost:8080/"
        },
        "id": "U1faxo4otak7",
        "outputId": "d1a6954a-1785-47ef-c320-d9415a9bb224"
      },
      "outputs": [
        {
          "output_type": "stream",
          "name": "stdout",
          "text": [
            "11111\n",
            "2222\n",
            "333\n",
            "44\n",
            "5\n"
          ]
        }
      ],
      "source": [
        "h=5\n",
        "for row in range(1,h+1):\n",
        "  for col in range(h,row-1,-1):\n",
        "    print(row,end='')\n",
        "  print()"
      ]
    },
    {
      "cell_type": "code",
      "source": [
        "h=5\n",
        "for row in range(h,0,-1):\n",
        "  for col in range(1,row+1):\n",
        "    print(col,end=\" \")\n",
        "  print()"
      ],
      "metadata": {
        "colab": {
          "base_uri": "https://localhost:8080/"
        },
        "id": "ujIphQdSzzeQ",
        "outputId": "51aa9ade-7eb7-4168-db98-e0989542e3c2"
      },
      "execution_count": 6,
      "outputs": [
        {
          "output_type": "stream",
          "name": "stdout",
          "text": [
            "1 2 3 4 5 \n",
            "1 2 3 4 \n",
            "1 2 3 \n",
            "1 2 \n",
            "1 \n"
          ]
        }
      ]
    },
    {
      "cell_type": "code",
      "source": [
        "h=5\n",
        "for row in range(1,h+1):\n",
        "  for col in range(h,row-1,-1):\n",
        "    print(chr(row+64),end=\" \")\n",
        "  print()"
      ],
      "metadata": {
        "colab": {
          "base_uri": "https://localhost:8080/"
        },
        "id": "MstCrhPm06q7",
        "outputId": "b13ca400-8c92-4db7-b957-a53bbf1f833a"
      },
      "execution_count": 8,
      "outputs": [
        {
          "output_type": "stream",
          "name": "stdout",
          "text": [
            "A A A A A \n",
            "B B B B \n",
            "C C C \n",
            "D D \n",
            "E \n"
          ]
        }
      ]
    },
    {
      "cell_type": "code",
      "source": [
        "h=5\n",
        "for row in range(h,0,-1):\n",
        "  for col in range(1,row+1):\n",
        "    print(chr(col+64),end='')\n",
        "  print()"
      ],
      "metadata": {
        "colab": {
          "base_uri": "https://localhost:8080/"
        },
        "id": "QK-LMIrt1WD1",
        "outputId": "ff1485b8-4e5c-47b5-bbc2-2528273d72e8"
      },
      "execution_count": 9,
      "outputs": [
        {
          "output_type": "stream",
          "name": "stdout",
          "text": [
            "ABCDE\n",
            "ABCD\n",
            "ABC\n",
            "AB\n",
            "A\n"
          ]
        }
      ]
    },
    {
      "cell_type": "code",
      "source": [
        "h=5\n",
        "for row in range(h,0,-1):\n",
        "  for col in range(1,row+1):\n",
        "    print(row,end='')\n",
        "  print()"
      ],
      "metadata": {
        "colab": {
          "base_uri": "https://localhost:8080/"
        },
        "id": "G5uuk7GL1zCF",
        "outputId": "ba878433-a6c0-4ec5-c039-e87318e7b23f"
      },
      "execution_count": 12,
      "outputs": [
        {
          "output_type": "stream",
          "name": "stdout",
          "text": [
            "55555\n",
            "4444\n",
            "333\n",
            "22\n",
            "1\n"
          ]
        }
      ]
    },
    {
      "cell_type": "code",
      "source": [
        "h=5\n",
        "for row in range(1,h+1):\n",
        "  for col in range(h,row-1,-1):\n",
        "    print(col,end='')\n",
        "  print()"
      ],
      "metadata": {
        "colab": {
          "base_uri": "https://localhost:8080/"
        },
        "id": "aODbAJ-U6iPw",
        "outputId": "6ab1f4dc-d436-4cbf-dfd8-048b8c9be957"
      },
      "execution_count": 14,
      "outputs": [
        {
          "output_type": "stream",
          "name": "stdout",
          "text": [
            "54321\n",
            "5432\n",
            "543\n",
            "54\n",
            "5\n"
          ]
        }
      ]
    },
    {
      "cell_type": "code",
      "source": [
        "h=5\n",
        "for row in range(h,0,-1):\n",
        "  for col in range(1,row+1):\n",
        "    print(chr(row+64),end='')\n",
        "  print()"
      ],
      "metadata": {
        "colab": {
          "base_uri": "https://localhost:8080/"
        },
        "id": "GhV9vZSW7jXW",
        "outputId": "af3683a6-2624-4174-dd05-d9df41c11e89"
      },
      "execution_count": 16,
      "outputs": [
        {
          "output_type": "stream",
          "name": "stdout",
          "text": [
            "EEEEE\n",
            "DDDD\n",
            "CCC\n",
            "BB\n",
            "A\n"
          ]
        }
      ]
    },
    {
      "cell_type": "code",
      "source": [
        "h=int(input())\n",
        "for row in range(1,h+1):\n",
        "  for col in range(h,row-1,-1):\n",
        "    print(chr(col+64),end='')\n",
        "  print()"
      ],
      "metadata": {
        "colab": {
          "base_uri": "https://localhost:8080/"
        },
        "id": "JpJ5PS3T-PkS",
        "outputId": "d64ab333-8523-40b4-feb0-3d74f9702da0"
      },
      "execution_count": 27,
      "outputs": [
        {
          "output_type": "stream",
          "name": "stdout",
          "text": [
            "5\n",
            "EDCBA\n",
            "EDCB\n",
            "EDC\n",
            "ED\n",
            "E\n"
          ]
        }
      ]
    }
  ]
}